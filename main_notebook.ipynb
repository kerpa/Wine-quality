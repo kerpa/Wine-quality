{
 "cells": [
  {
   "cell_type": "markdown",
   "metadata": {},
   "source": [
    "# Prediction of wine quality analysis using different algorithms\n",
    "\n",
    "The purpose is here to be able to modelise the quality score system and be able to predict new scores with real data"
   ]
  },
  {
   "cell_type": "code",
   "execution_count": 157,
   "metadata": {},
   "outputs": [],
   "source": [
    "import pandas as pd\n",
    "import seaborn as sns \n",
    "import numpy as np\n",
    "\n",
    "from xgboost import XGBClassifier\n",
    "\n",
    "from sklearn.utils import shuffle\n",
    "from sklearn.preprocessing import RobustScaler\n",
    "from sklearn.model_selection import train_test_split\n",
    "from sklearn import metrics\n",
    "\n",
    "from tensorflow.keras import layers\n",
    "from tensorflow.keras.callbacks import EarlyStopping\n",
    "from tensorflow.keras.models import Sequential\n",
    "\n",
    "from imblearn.over_sampling import SMOTE\n",
    "\n",
    "import matplotlib.pyplot as plt\n",
    "%matplotlib inline"
   ]
  },
  {
   "cell_type": "markdown",
   "metadata": {},
   "source": [
    "### A look at the data\n",
    "\n",
    "Let's have a look at the data here :)"
   ]
  },
  {
   "cell_type": "code",
   "execution_count": 158,
   "metadata": {},
   "outputs": [
    {
     "data": {
      "text/html": [
       "<div>\n",
       "<style scoped>\n",
       "    .dataframe tbody tr th:only-of-type {\n",
       "        vertical-align: middle;\n",
       "    }\n",
       "\n",
       "    .dataframe tbody tr th {\n",
       "        vertical-align: top;\n",
       "    }\n",
       "\n",
       "    .dataframe thead th {\n",
       "        text-align: right;\n",
       "    }\n",
       "</style>\n",
       "<table border=\"1\" class=\"dataframe\">\n",
       "  <thead>\n",
       "    <tr style=\"text-align: right;\">\n",
       "      <th></th>\n",
       "      <th>fixed acidity</th>\n",
       "      <th>volatile acidity</th>\n",
       "      <th>citric acid</th>\n",
       "      <th>residual sugar</th>\n",
       "      <th>chlorides</th>\n",
       "      <th>free sulfur dioxide</th>\n",
       "      <th>total sulfur dioxide</th>\n",
       "      <th>density</th>\n",
       "      <th>pH</th>\n",
       "      <th>sulphates</th>\n",
       "      <th>alcohol</th>\n",
       "      <th>quality</th>\n",
       "    </tr>\n",
       "  </thead>\n",
       "  <tbody>\n",
       "    <tr>\n",
       "      <th>1006</th>\n",
       "      <td>9.1</td>\n",
       "      <td>0.29</td>\n",
       "      <td>0.33</td>\n",
       "      <td>2.05</td>\n",
       "      <td>0.063</td>\n",
       "      <td>13.0</td>\n",
       "      <td>27.0</td>\n",
       "      <td>0.99516</td>\n",
       "      <td>3.26</td>\n",
       "      <td>0.84</td>\n",
       "      <td>11.7</td>\n",
       "      <td>7</td>\n",
       "    </tr>\n",
       "    <tr>\n",
       "      <th>427</th>\n",
       "      <td>9.5</td>\n",
       "      <td>0.78</td>\n",
       "      <td>0.22</td>\n",
       "      <td>1.90</td>\n",
       "      <td>0.077</td>\n",
       "      <td>6.0</td>\n",
       "      <td>32.0</td>\n",
       "      <td>0.99880</td>\n",
       "      <td>3.26</td>\n",
       "      <td>0.56</td>\n",
       "      <td>10.6</td>\n",
       "      <td>6</td>\n",
       "    </tr>\n",
       "    <tr>\n",
       "      <th>1072</th>\n",
       "      <td>7.2</td>\n",
       "      <td>0.35</td>\n",
       "      <td>0.26</td>\n",
       "      <td>1.80</td>\n",
       "      <td>0.083</td>\n",
       "      <td>33.0</td>\n",
       "      <td>75.0</td>\n",
       "      <td>0.99680</td>\n",
       "      <td>3.40</td>\n",
       "      <td>0.58</td>\n",
       "      <td>9.5</td>\n",
       "      <td>6</td>\n",
       "    </tr>\n",
       "    <tr>\n",
       "      <th>154</th>\n",
       "      <td>7.1</td>\n",
       "      <td>0.43</td>\n",
       "      <td>0.42</td>\n",
       "      <td>5.50</td>\n",
       "      <td>0.070</td>\n",
       "      <td>29.0</td>\n",
       "      <td>129.0</td>\n",
       "      <td>0.99730</td>\n",
       "      <td>3.42</td>\n",
       "      <td>0.72</td>\n",
       "      <td>10.5</td>\n",
       "      <td>5</td>\n",
       "    </tr>\n",
       "    <tr>\n",
       "      <th>1223</th>\n",
       "      <td>10.5</td>\n",
       "      <td>0.36</td>\n",
       "      <td>0.47</td>\n",
       "      <td>2.20</td>\n",
       "      <td>0.074</td>\n",
       "      <td>9.0</td>\n",
       "      <td>23.0</td>\n",
       "      <td>0.99638</td>\n",
       "      <td>3.23</td>\n",
       "      <td>0.76</td>\n",
       "      <td>12.0</td>\n",
       "      <td>6</td>\n",
       "    </tr>\n",
       "    <tr>\n",
       "      <th>...</th>\n",
       "      <td>...</td>\n",
       "      <td>...</td>\n",
       "      <td>...</td>\n",
       "      <td>...</td>\n",
       "      <td>...</td>\n",
       "      <td>...</td>\n",
       "      <td>...</td>\n",
       "      <td>...</td>\n",
       "      <td>...</td>\n",
       "      <td>...</td>\n",
       "      <td>...</td>\n",
       "      <td>...</td>\n",
       "    </tr>\n",
       "    <tr>\n",
       "      <th>832</th>\n",
       "      <td>10.4</td>\n",
       "      <td>0.44</td>\n",
       "      <td>0.42</td>\n",
       "      <td>1.50</td>\n",
       "      <td>0.145</td>\n",
       "      <td>34.0</td>\n",
       "      <td>48.0</td>\n",
       "      <td>0.99832</td>\n",
       "      <td>3.38</td>\n",
       "      <td>0.86</td>\n",
       "      <td>9.9</td>\n",
       "      <td>3</td>\n",
       "    </tr>\n",
       "    <tr>\n",
       "      <th>389</th>\n",
       "      <td>9.6</td>\n",
       "      <td>0.38</td>\n",
       "      <td>0.31</td>\n",
       "      <td>2.50</td>\n",
       "      <td>0.096</td>\n",
       "      <td>16.0</td>\n",
       "      <td>49.0</td>\n",
       "      <td>0.99820</td>\n",
       "      <td>3.19</td>\n",
       "      <td>0.70</td>\n",
       "      <td>10.0</td>\n",
       "      <td>7</td>\n",
       "    </tr>\n",
       "    <tr>\n",
       "      <th>434</th>\n",
       "      <td>10.4</td>\n",
       "      <td>0.41</td>\n",
       "      <td>0.55</td>\n",
       "      <td>3.20</td>\n",
       "      <td>0.076</td>\n",
       "      <td>22.0</td>\n",
       "      <td>54.0</td>\n",
       "      <td>0.99960</td>\n",
       "      <td>3.15</td>\n",
       "      <td>0.89</td>\n",
       "      <td>9.9</td>\n",
       "      <td>6</td>\n",
       "    </tr>\n",
       "    <tr>\n",
       "      <th>171</th>\n",
       "      <td>8.0</td>\n",
       "      <td>0.42</td>\n",
       "      <td>0.17</td>\n",
       "      <td>2.00</td>\n",
       "      <td>0.073</td>\n",
       "      <td>6.0</td>\n",
       "      <td>18.0</td>\n",
       "      <td>0.99720</td>\n",
       "      <td>3.29</td>\n",
       "      <td>0.61</td>\n",
       "      <td>9.2</td>\n",
       "      <td>6</td>\n",
       "    </tr>\n",
       "    <tr>\n",
       "      <th>1318</th>\n",
       "      <td>7.5</td>\n",
       "      <td>0.63</td>\n",
       "      <td>0.27</td>\n",
       "      <td>2.00</td>\n",
       "      <td>0.083</td>\n",
       "      <td>17.0</td>\n",
       "      <td>91.0</td>\n",
       "      <td>0.99616</td>\n",
       "      <td>3.26</td>\n",
       "      <td>0.58</td>\n",
       "      <td>9.8</td>\n",
       "      <td>6</td>\n",
       "    </tr>\n",
       "  </tbody>\n",
       "</table>\n",
       "<p>1599 rows × 12 columns</p>\n",
       "</div>"
      ],
      "text/plain": [
       "      fixed acidity  volatile acidity  citric acid  residual sugar  chlorides  \\\n",
       "1006            9.1              0.29         0.33            2.05      0.063   \n",
       "427             9.5              0.78         0.22            1.90      0.077   \n",
       "1072            7.2              0.35         0.26            1.80      0.083   \n",
       "154             7.1              0.43         0.42            5.50      0.070   \n",
       "1223           10.5              0.36         0.47            2.20      0.074   \n",
       "...             ...               ...          ...             ...        ...   \n",
       "832            10.4              0.44         0.42            1.50      0.145   \n",
       "389             9.6              0.38         0.31            2.50      0.096   \n",
       "434            10.4              0.41         0.55            3.20      0.076   \n",
       "171             8.0              0.42         0.17            2.00      0.073   \n",
       "1318            7.5              0.63         0.27            2.00      0.083   \n",
       "\n",
       "      free sulfur dioxide  total sulfur dioxide  density    pH  sulphates  \\\n",
       "1006                 13.0                  27.0  0.99516  3.26       0.84   \n",
       "427                   6.0                  32.0  0.99880  3.26       0.56   \n",
       "1072                 33.0                  75.0  0.99680  3.40       0.58   \n",
       "154                  29.0                 129.0  0.99730  3.42       0.72   \n",
       "1223                  9.0                  23.0  0.99638  3.23       0.76   \n",
       "...                   ...                   ...      ...   ...        ...   \n",
       "832                  34.0                  48.0  0.99832  3.38       0.86   \n",
       "389                  16.0                  49.0  0.99820  3.19       0.70   \n",
       "434                  22.0                  54.0  0.99960  3.15       0.89   \n",
       "171                   6.0                  18.0  0.99720  3.29       0.61   \n",
       "1318                 17.0                  91.0  0.99616  3.26       0.58   \n",
       "\n",
       "      alcohol  quality  \n",
       "1006     11.7        7  \n",
       "427      10.6        6  \n",
       "1072      9.5        6  \n",
       "154      10.5        5  \n",
       "1223     12.0        6  \n",
       "...       ...      ...  \n",
       "832       9.9        3  \n",
       "389      10.0        7  \n",
       "434       9.9        6  \n",
       "171       9.2        6  \n",
       "1318      9.8        6  \n",
       "\n",
       "[1599 rows x 12 columns]"
      ]
     },
     "execution_count": 158,
     "metadata": {},
     "output_type": "execute_result"
    }
   ],
   "source": [
    "df = pd.read_csv('winequality-red.csv')\n",
    "df = shuffle(df)\n",
    "df"
   ]
  },
  {
   "cell_type": "code",
   "execution_count": 159,
   "metadata": {},
   "outputs": [
    {
     "data": {
      "text/html": [
       "<div>\n",
       "<style scoped>\n",
       "    .dataframe tbody tr th:only-of-type {\n",
       "        vertical-align: middle;\n",
       "    }\n",
       "\n",
       "    .dataframe tbody tr th {\n",
       "        vertical-align: top;\n",
       "    }\n",
       "\n",
       "    .dataframe thead th {\n",
       "        text-align: right;\n",
       "    }\n",
       "</style>\n",
       "<table border=\"1\" class=\"dataframe\">\n",
       "  <thead>\n",
       "    <tr style=\"text-align: right;\">\n",
       "      <th></th>\n",
       "      <th>fixed acidity</th>\n",
       "      <th>volatile acidity</th>\n",
       "      <th>citric acid</th>\n",
       "      <th>residual sugar</th>\n",
       "      <th>chlorides</th>\n",
       "      <th>free sulfur dioxide</th>\n",
       "      <th>total sulfur dioxide</th>\n",
       "      <th>density</th>\n",
       "      <th>pH</th>\n",
       "      <th>sulphates</th>\n",
       "      <th>alcohol</th>\n",
       "      <th>quality</th>\n",
       "    </tr>\n",
       "  </thead>\n",
       "  <tbody>\n",
       "    <tr>\n",
       "      <th>count</th>\n",
       "      <td>1599.000000</td>\n",
       "      <td>1599.000000</td>\n",
       "      <td>1599.000000</td>\n",
       "      <td>1599.000000</td>\n",
       "      <td>1599.000000</td>\n",
       "      <td>1599.000000</td>\n",
       "      <td>1599.000000</td>\n",
       "      <td>1599.000000</td>\n",
       "      <td>1599.000000</td>\n",
       "      <td>1599.000000</td>\n",
       "      <td>1599.000000</td>\n",
       "      <td>1599.000000</td>\n",
       "    </tr>\n",
       "    <tr>\n",
       "      <th>mean</th>\n",
       "      <td>8.319637</td>\n",
       "      <td>0.527821</td>\n",
       "      <td>0.270976</td>\n",
       "      <td>2.538806</td>\n",
       "      <td>0.087467</td>\n",
       "      <td>15.874922</td>\n",
       "      <td>46.467792</td>\n",
       "      <td>0.996747</td>\n",
       "      <td>3.311113</td>\n",
       "      <td>0.658149</td>\n",
       "      <td>10.422983</td>\n",
       "      <td>5.636023</td>\n",
       "    </tr>\n",
       "    <tr>\n",
       "      <th>std</th>\n",
       "      <td>1.741096</td>\n",
       "      <td>0.179060</td>\n",
       "      <td>0.194801</td>\n",
       "      <td>1.409928</td>\n",
       "      <td>0.047065</td>\n",
       "      <td>10.460157</td>\n",
       "      <td>32.895324</td>\n",
       "      <td>0.001887</td>\n",
       "      <td>0.154386</td>\n",
       "      <td>0.169507</td>\n",
       "      <td>1.065668</td>\n",
       "      <td>0.807569</td>\n",
       "    </tr>\n",
       "    <tr>\n",
       "      <th>min</th>\n",
       "      <td>4.600000</td>\n",
       "      <td>0.120000</td>\n",
       "      <td>0.000000</td>\n",
       "      <td>0.900000</td>\n",
       "      <td>0.012000</td>\n",
       "      <td>1.000000</td>\n",
       "      <td>6.000000</td>\n",
       "      <td>0.990070</td>\n",
       "      <td>2.740000</td>\n",
       "      <td>0.330000</td>\n",
       "      <td>8.400000</td>\n",
       "      <td>3.000000</td>\n",
       "    </tr>\n",
       "    <tr>\n",
       "      <th>25%</th>\n",
       "      <td>7.100000</td>\n",
       "      <td>0.390000</td>\n",
       "      <td>0.090000</td>\n",
       "      <td>1.900000</td>\n",
       "      <td>0.070000</td>\n",
       "      <td>7.000000</td>\n",
       "      <td>22.000000</td>\n",
       "      <td>0.995600</td>\n",
       "      <td>3.210000</td>\n",
       "      <td>0.550000</td>\n",
       "      <td>9.500000</td>\n",
       "      <td>5.000000</td>\n",
       "    </tr>\n",
       "    <tr>\n",
       "      <th>50%</th>\n",
       "      <td>7.900000</td>\n",
       "      <td>0.520000</td>\n",
       "      <td>0.260000</td>\n",
       "      <td>2.200000</td>\n",
       "      <td>0.079000</td>\n",
       "      <td>14.000000</td>\n",
       "      <td>38.000000</td>\n",
       "      <td>0.996750</td>\n",
       "      <td>3.310000</td>\n",
       "      <td>0.620000</td>\n",
       "      <td>10.200000</td>\n",
       "      <td>6.000000</td>\n",
       "    </tr>\n",
       "    <tr>\n",
       "      <th>75%</th>\n",
       "      <td>9.200000</td>\n",
       "      <td>0.640000</td>\n",
       "      <td>0.420000</td>\n",
       "      <td>2.600000</td>\n",
       "      <td>0.090000</td>\n",
       "      <td>21.000000</td>\n",
       "      <td>62.000000</td>\n",
       "      <td>0.997835</td>\n",
       "      <td>3.400000</td>\n",
       "      <td>0.730000</td>\n",
       "      <td>11.100000</td>\n",
       "      <td>6.000000</td>\n",
       "    </tr>\n",
       "    <tr>\n",
       "      <th>max</th>\n",
       "      <td>15.900000</td>\n",
       "      <td>1.580000</td>\n",
       "      <td>1.000000</td>\n",
       "      <td>15.500000</td>\n",
       "      <td>0.611000</td>\n",
       "      <td>72.000000</td>\n",
       "      <td>289.000000</td>\n",
       "      <td>1.003690</td>\n",
       "      <td>4.010000</td>\n",
       "      <td>2.000000</td>\n",
       "      <td>14.900000</td>\n",
       "      <td>8.000000</td>\n",
       "    </tr>\n",
       "  </tbody>\n",
       "</table>\n",
       "</div>"
      ],
      "text/plain": [
       "       fixed acidity  volatile acidity  citric acid  residual sugar  \\\n",
       "count    1599.000000       1599.000000  1599.000000     1599.000000   \n",
       "mean        8.319637          0.527821     0.270976        2.538806   \n",
       "std         1.741096          0.179060     0.194801        1.409928   \n",
       "min         4.600000          0.120000     0.000000        0.900000   \n",
       "25%         7.100000          0.390000     0.090000        1.900000   \n",
       "50%         7.900000          0.520000     0.260000        2.200000   \n",
       "75%         9.200000          0.640000     0.420000        2.600000   \n",
       "max        15.900000          1.580000     1.000000       15.500000   \n",
       "\n",
       "         chlorides  free sulfur dioxide  total sulfur dioxide      density  \\\n",
       "count  1599.000000          1599.000000           1599.000000  1599.000000   \n",
       "mean      0.087467            15.874922             46.467792     0.996747   \n",
       "std       0.047065            10.460157             32.895324     0.001887   \n",
       "min       0.012000             1.000000              6.000000     0.990070   \n",
       "25%       0.070000             7.000000             22.000000     0.995600   \n",
       "50%       0.079000            14.000000             38.000000     0.996750   \n",
       "75%       0.090000            21.000000             62.000000     0.997835   \n",
       "max       0.611000            72.000000            289.000000     1.003690   \n",
       "\n",
       "                pH    sulphates      alcohol      quality  \n",
       "count  1599.000000  1599.000000  1599.000000  1599.000000  \n",
       "mean      3.311113     0.658149    10.422983     5.636023  \n",
       "std       0.154386     0.169507     1.065668     0.807569  \n",
       "min       2.740000     0.330000     8.400000     3.000000  \n",
       "25%       3.210000     0.550000     9.500000     5.000000  \n",
       "50%       3.310000     0.620000    10.200000     6.000000  \n",
       "75%       3.400000     0.730000    11.100000     6.000000  \n",
       "max       4.010000     2.000000    14.900000     8.000000  "
      ]
     },
     "execution_count": 159,
     "metadata": {},
     "output_type": "execute_result"
    }
   ],
   "source": [
    "df.describe()"
   ]
  },
  {
   "cell_type": "markdown",
   "metadata": {},
   "source": [
    "The datatset is small but t should ne enough to draw conclusions on it."
   ]
  },
  {
   "cell_type": "code",
   "execution_count": 160,
   "metadata": {},
   "outputs": [
    {
     "data": {
      "text/plain": [
       "<AxesSubplot:>"
      ]
     },
     "execution_count": 160,
     "metadata": {},
     "output_type": "execute_result"
    },
    {
     "data": {
      "image/png": "[encoded data removed]",
      "text/plain": [
       "<Figure size 432x288 with 2 Axes>"
      ]
     },
     "metadata": {
      "needs_background": "light"
     },
     "output_type": "display_data"
    }
   ],
   "source": [
    "corr  = df.corr()\n",
    "sns.heatmap(corr, cmap='Spectral')"
   ]
  },
  {
   "cell_type": "code",
   "execution_count": 161,
   "metadata": {},
   "outputs": [
    {
     "name": "stdout",
     "output_type": "stream",
     "text": [
      "<class 'pandas.core.frame.DataFrame'>\n",
      "Int64Index: 1599 entries, 1006 to 1318\n",
      "Data columns (total 12 columns):\n",
      " #   Column                Non-Null Count  Dtype  \n",
      "---  ------                --------------  -----  \n",
      " 0   fixed acidity         1599 non-null   float64\n",
      " 1   volatile acidity      1599 non-null   float64\n",
      " 2   citric acid           1599 non-null   float64\n",
      " 3   residual sugar        1599 non-null   float64\n",
      " 4   chlorides             1599 non-null   float64\n",
      " 5   free sulfur dioxide   1599 non-null   float64\n",
      " 6   total sulfur dioxide  1599 non-null   float64\n",
      " 7   density               1599 non-null   float64\n",
      " 8   pH                    1599 non-null   float64\n",
      " 9   sulphates             1599 non-null   float64\n",
      " 10  alcohol               1599 non-null   float64\n",
      " 11  quality               1599 non-null   int64  \n",
      "dtypes: float64(11), int64(1)\n",
      "memory usage: 162.4 KB\n"
     ]
    }
   ],
   "source": [
    "df.info()"
   ]
  },
  {
   "cell_type": "markdown",
   "metadata": {},
   "source": [
    "### Proccessing of the data\n",
    "\n",
    "Here we will process the data, because one the class is underrepresented.\n",
    "For this, we will use the oversampling technique SMOTE\n",
    "Then we'll apply a normalization technique to reduce importance of outliers and be able to use the dataset on gradient descent algorithms"
   ]
  },
  {
   "cell_type": "code",
   "execution_count": 162,
   "metadata": {},
   "outputs": [],
   "source": [
    "X = df.drop(['quality'],axis=1).values\n",
    "y = df['quality'].values\n",
    "\n",
    "oversample = SMOTE()\n",
    "X, y  = oversample.fit_resample(X,y)\n",
    "\n",
    "X_train, X_test, y_train, y_test = train_test_split(X, y, test_size=0.33, random_state=42)"
   ]
  },
  {
   "cell_type": "code",
   "execution_count": 163,
   "metadata": {},
   "outputs": [],
   "source": [
    "scaler = RobustScaler()\n",
    "X_train = scaler.fit_transform(X_train)\n",
    "X_test = scaler.transform(X_test)"
   ]
  },
  {
   "cell_type": "markdown",
   "metadata": {},
   "source": [
    "### ANN\n",
    "We'll first use an ANN to modelise the data"
   ]
  },
  {
   "cell_type": "code",
   "execution_count": 164,
   "metadata": {},
   "outputs": [],
   "source": [
    "ann = Sequential([\n",
    "  layers.Dense(units=32, activation='relu'),\n",
    "  layers.Dense(units=32, activation='relu'),\n",
    "  layers.Dense(units=32, activation='softmax'),\n",
    "  layers.Dense(units=1)\n",
    "])\n",
    "\n",
    "ann.compile(loss='mse', optimizer='adam')"
   ]
  },
  {
   "cell_type": "code",
   "execution_count": 165,
   "metadata": {},
   "outputs": [
    {
     "name": "stdout",
     "output_type": "stream",
     "text": [
      "Epoch 1/600\n",
      "86/86 [==============================] - 1s 2ms/step - loss: 29.8602 - val_loss: 27.3364\n",
      "Epoch 2/600\n",
      "86/86 [==============================] - 0s 1ms/step - loss: 26.1196 - val_loss: 24.6354\n",
      "Epoch 3/600\n",
      "86/86 [==============================] - 0s 1ms/step - loss: 23.8633 - val_loss: 22.7405\n",
      "Epoch 4/600\n",
      "86/86 [==============================] - 0s 1ms/step - loss: 22.1339 - val_loss: 21.1364\n",
      "Epoch 5/600\n",
      "86/86 [==============================] - 0s 1ms/step - loss: 20.6057 - val_loss: 19.6915\n",
      "Epoch 6/600\n",
      "86/86 [==============================] - 0s 1ms/step - loss: 19.2099 - val_loss: 18.3531\n",
      "Epoch 7/600\n",
      "86/86 [==============================] - 0s 1ms/step - loss: 17.9179 - val_loss: 17.1079\n",
      "Epoch 8/600\n",
      "86/86 [==============================] - 0s 1ms/step - loss: 16.7161 - val_loss: 15.9541\n",
      "Epoch 9/600\n",
      "86/86 [==============================] - 0s 1ms/step - loss: 15.5937 - val_loss: 14.8761\n",
      "Epoch 10/600\n",
      "86/86 [==============================] - 0s 1ms/step - loss: 14.5451 - val_loss: 13.8602\n",
      "Epoch 11/600\n",
      "86/86 [==============================] - 0s 1ms/step - loss: 13.5669 - val_loss: 12.9195\n",
      "Epoch 12/600\n",
      "86/86 [==============================] - 0s 1ms/step - loss: 12.6547 - val_loss: 12.0387\n",
      "Epoch 13/600\n",
      "86/86 [==============================] - 0s 1ms/step - loss: 11.8027 - val_loss: 11.2206\n",
      "Epoch 14/600\n",
      "86/86 [==============================] - 0s 1ms/step - loss: 11.0081 - val_loss: 10.4581\n",
      "Epoch 15/600\n",
      "86/86 [==============================] - 0s 1ms/step - loss: 10.2678 - val_loss: 9.7465\n",
      "Epoch 16/600\n",
      "86/86 [==============================] - 0s 1ms/step - loss: 9.5798 - val_loss: 9.0871\n",
      "Epoch 17/600\n",
      "86/86 [==============================] - 0s 1ms/step - loss: 8.9411 - val_loss: 8.4760\n",
      "Epoch 18/600\n",
      "86/86 [==============================] - 0s 1ms/step - loss: 8.3486 - val_loss: 7.9089\n",
      "Epoch 19/600\n",
      "86/86 [==============================] - 0s 1ms/step - loss: 7.8005 - val_loss: 7.3845\n",
      "Epoch 20/600\n",
      "86/86 [==============================] - 0s 1ms/step - loss: 7.2961 - val_loss: 6.9029\n",
      "Epoch 21/600\n",
      "86/86 [==============================] - 0s 1ms/step - loss: 6.8316 - val_loss: 6.4587\n",
      "Epoch 22/600\n",
      "86/86 [==============================] - 0s 1ms/step - loss: 6.4047 - val_loss: 6.0525\n",
      "Epoch 23/600\n",
      "86/86 [==============================] - 0s 1ms/step - loss: 6.0138 - val_loss: 5.6810\n",
      "Epoch 24/600\n",
      "86/86 [==============================] - 0s 1ms/step - loss: 5.6571 - val_loss: 5.3451\n",
      "Epoch 25/600\n",
      "86/86 [==============================] - 0s 2ms/step - loss: 5.3322 - val_loss: 5.0375\n",
      "Epoch 26/600\n",
      "86/86 [==============================] - 0s 1ms/step - loss: 5.0382 - val_loss: 4.7601\n",
      "Epoch 27/600\n",
      "86/86 [==============================] - 0s 1ms/step - loss: 4.7718 - val_loss: 4.5098\n",
      "Epoch 28/600\n",
      "86/86 [==============================] - 0s 1ms/step - loss: 4.5326 - val_loss: 4.2829\n",
      "Epoch 29/600\n",
      "86/86 [==============================] - 0s 1ms/step - loss: 4.3182 - val_loss: 4.0851\n",
      "Epoch 30/600\n",
      "86/86 [==============================] - 0s 1ms/step - loss: 4.1273 - val_loss: 3.9053\n",
      "Epoch 31/600\n",
      "86/86 [==============================] - 0s 1ms/step - loss: 3.9572 - val_loss: 3.7484\n",
      "Epoch 32/600\n",
      "86/86 [==============================] - 0s 1ms/step - loss: 3.8068 - val_loss: 3.6059\n",
      "Epoch 33/600\n",
      "86/86 [==============================] - 0s 1ms/step - loss: 3.6742 - val_loss: 3.4863\n",
      "Epoch 34/600\n",
      "86/86 [==============================] - 0s 1ms/step - loss: 3.5589 - val_loss: 3.3801\n",
      "Epoch 35/600\n",
      "86/86 [==============================] - 0s 1ms/step - loss: 3.4589 - val_loss: 3.2869\n",
      "Epoch 36/600\n",
      "86/86 [==============================] - 0s 1ms/step - loss: 3.3723 - val_loss: 3.2081\n",
      "Epoch 37/600\n",
      "86/86 [==============================] - 0s 1ms/step - loss: 3.2977 - val_loss: 3.1417\n",
      "Epoch 38/600\n",
      "86/86 [==============================] - 0s 1ms/step - loss: 3.2344 - val_loss: 3.0836\n",
      "Epoch 39/600\n",
      "86/86 [==============================] - 0s 1ms/step - loss: 3.1808 - val_loss: 3.0356\n",
      "Epoch 40/600\n",
      "86/86 [==============================] - 0s 1ms/step - loss: 3.1359 - val_loss: 2.9960\n",
      "Epoch 41/600\n",
      "86/86 [==============================] - 0s 1ms/step - loss: 3.0983 - val_loss: 2.9632\n",
      "Epoch 42/600\n",
      "86/86 [==============================] - 0s 1ms/step - loss: 3.0679 - val_loss: 2.9354\n",
      "Epoch 43/600\n",
      "86/86 [==============================] - 0s 1ms/step - loss: 3.0429 - val_loss: 2.9143\n",
      "Epoch 44/600\n",
      "86/86 [==============================] - 0s 2ms/step - loss: 3.0226 - val_loss: 2.8967\n",
      "Epoch 45/600\n",
      "86/86 [==============================] - 0s 2ms/step - loss: 3.0062 - val_loss: 2.8829\n",
      "Epoch 46/600\n",
      "86/86 [==============================] - 0s 2ms/step - loss: 2.9933 - val_loss: 2.8722\n",
      "Epoch 47/600\n",
      "86/86 [==============================] - 0s 2ms/step - loss: 2.9832 - val_loss: 2.8640\n",
      "Epoch 48/600\n",
      "86/86 [==============================] - 0s 1ms/step - loss: 2.9754 - val_loss: 2.8571\n",
      "Epoch 49/600\n",
      "86/86 [==============================] - 0s 1ms/step - loss: 2.9694 - val_loss: 2.8526\n",
      "Epoch 50/600\n",
      "86/86 [==============================] - 0s 1ms/step - loss: 2.9649 - val_loss: 2.8492\n",
      "Epoch 51/600\n",
      "86/86 [==============================] - 0s 1ms/step - loss: 2.9616 - val_loss: 2.8468\n",
      "Epoch 52/600\n",
      "86/86 [==============================] - 0s 1ms/step - loss: 2.9592 - val_loss: 2.8448\n",
      "Epoch 53/600\n",
      "86/86 [==============================] - 0s 1ms/step - loss: 2.9577 - val_loss: 2.8436\n",
      "Epoch 54/600\n",
      "86/86 [==============================] - 0s 1ms/step - loss: 2.9567 - val_loss: 2.8429\n",
      "Epoch 55/600\n",
      "86/86 [==============================] - 0s 2ms/step - loss: 2.9556 - val_loss: 2.8422\n",
      "Epoch 56/600\n",
      "86/86 [==============================] - 0s 1ms/step - loss: 2.9549 - val_loss: 2.8418\n",
      "Epoch 57/600\n",
      "86/86 [==============================] - 0s 1ms/step - loss: 2.5620 - val_loss: 1.7494\n",
      "Epoch 58/600\n",
      "86/86 [==============================] - 0s 1ms/step - loss: 1.6694 - val_loss: 1.5070\n",
      "Epoch 59/600\n",
      "86/86 [==============================] - 0s 1ms/step - loss: 1.4854 - val_loss: 1.3657\n",
      "Epoch 60/600\n",
      "86/86 [==============================] - 0s 1ms/step - loss: 1.3466 - val_loss: 1.2609\n",
      "Epoch 61/600\n",
      "86/86 [==============================] - 0s 1ms/step - loss: 1.2343 - val_loss: 1.1463\n",
      "Epoch 62/600\n",
      "86/86 [==============================] - 0s 1ms/step - loss: 1.1211 - val_loss: 1.0529\n",
      "Epoch 63/600\n",
      "86/86 [==============================] - 0s 1ms/step - loss: 1.0267 - val_loss: 0.9757\n",
      "Epoch 64/600\n",
      "86/86 [==============================] - 0s 1ms/step - loss: 0.9441 - val_loss: 0.8935\n",
      "Epoch 65/600\n",
      "86/86 [==============================] - 0s 1ms/step - loss: 0.8799 - val_loss: 0.8291\n",
      "Epoch 66/600\n",
      "86/86 [==============================] - 0s 1ms/step - loss: 0.8003 - val_loss: 0.7725\n",
      "Epoch 67/600\n",
      "86/86 [==============================] - 0s 1ms/step - loss: 0.7307 - val_loss: 0.7343\n",
      "Epoch 68/600\n",
      "86/86 [==============================] - 0s 1ms/step - loss: 0.6759 - val_loss: 0.6860\n",
      "Epoch 69/600\n",
      "86/86 [==============================] - 0s 1ms/step - loss: 0.6348 - val_loss: 0.6488\n",
      "Epoch 70/600\n",
      "86/86 [==============================] - 0s 1ms/step - loss: 0.5960 - val_loss: 0.6239\n",
      "Epoch 71/600\n",
      "86/86 [==============================] - 0s 1ms/step - loss: 0.5712 - val_loss: 0.6111\n",
      "Epoch 72/600\n",
      "86/86 [==============================] - 0s 1ms/step - loss: 0.5469 - val_loss: 0.5641\n",
      "Epoch 73/600\n",
      "86/86 [==============================] - 0s 1ms/step - loss: 0.5239 - val_loss: 0.5444\n",
      "Epoch 74/600\n",
      "86/86 [==============================] - 0s 1ms/step - loss: 0.4990 - val_loss: 0.5353\n",
      "Epoch 75/600\n",
      "86/86 [==============================] - 0s 1ms/step - loss: 0.4901 - val_loss: 0.5186\n",
      "Epoch 76/600\n",
      "86/86 [==============================] - 0s 1ms/step - loss: 0.4687 - val_loss: 0.5127\n",
      "Epoch 77/600\n",
      "86/86 [==============================] - 0s 1ms/step - loss: 0.4668 - val_loss: 0.4959\n",
      "Epoch 78/600\n",
      "86/86 [==============================] - 0s 1ms/step - loss: 0.4359 - val_loss: 0.4782\n",
      "Epoch 79/600\n",
      "86/86 [==============================] - 0s 1ms/step - loss: 0.4273 - val_loss: 0.4709\n",
      "Epoch 80/600\n",
      "86/86 [==============================] - 0s 1ms/step - loss: 0.4082 - val_loss: 0.4835\n",
      "Epoch 81/600\n",
      "86/86 [==============================] - 0s 1ms/step - loss: 0.4103 - val_loss: 0.4663\n",
      "Epoch 82/600\n",
      "86/86 [==============================] - 0s 1ms/step - loss: 0.3932 - val_loss: 0.4488\n",
      "Epoch 83/600\n",
      "86/86 [==============================] - 0s 1ms/step - loss: 0.3847 - val_loss: 0.4393\n",
      "Epoch 84/600\n",
      "86/86 [==============================] - 0s 1ms/step - loss: 0.3783 - val_loss: 0.4381\n",
      "Epoch 85/600\n",
      "86/86 [==============================] - 0s 1ms/step - loss: 0.3844 - val_loss: 0.4312\n",
      "Epoch 86/600\n",
      "86/86 [==============================] - 0s 1ms/step - loss: 0.3699 - val_loss: 0.4318\n",
      "Epoch 87/600\n",
      "86/86 [==============================] - 0s 1ms/step - loss: 0.3648 - val_loss: 0.4487\n",
      "Epoch 88/600\n",
      "86/86 [==============================] - 0s 1ms/step - loss: 0.3577 - val_loss: 0.4258\n",
      "Epoch 89/600\n",
      "86/86 [==============================] - 0s 1ms/step - loss: 0.3495 - val_loss: 0.4193\n",
      "Epoch 90/600\n",
      "86/86 [==============================] - 0s 1ms/step - loss: 0.3457 - val_loss: 0.4315\n",
      "Epoch 91/600\n",
      "86/86 [==============================] - 0s 1ms/step - loss: 0.3445 - val_loss: 0.4209\n",
      "Epoch 92/600\n",
      "86/86 [==============================] - 0s 1ms/step - loss: 0.3420 - val_loss: 0.4078\n",
      "Epoch 93/600\n",
      "86/86 [==============================] - 0s 1ms/step - loss: 0.3323 - val_loss: 0.4032\n",
      "Epoch 94/600\n",
      "86/86 [==============================] - 0s 1ms/step - loss: 0.3296 - val_loss: 0.4160\n",
      "Epoch 95/600\n",
      "86/86 [==============================] - 0s 1ms/step - loss: 0.3299 - val_loss: 0.4369\n",
      "Epoch 96/600\n",
      "86/86 [==============================] - 0s 1ms/step - loss: 0.3288 - val_loss: 0.3855\n",
      "Epoch 97/600\n",
      "86/86 [==============================] - 0s 1ms/step - loss: 0.3148 - val_loss: 0.3855\n",
      "Epoch 98/600\n",
      "86/86 [==============================] - 0s 1ms/step - loss: 0.3143 - val_loss: 0.3965\n",
      "Epoch 99/600\n",
      "86/86 [==============================] - 0s 1ms/step - loss: 0.3071 - val_loss: 0.3899\n",
      "Epoch 100/600\n",
      "86/86 [==============================] - 0s 1ms/step - loss: 0.3059 - val_loss: 0.3787\n",
      "Epoch 101/600\n",
      "86/86 [==============================] - 0s 1ms/step - loss: 0.3017 - val_loss: 0.3798\n",
      "Epoch 102/600\n",
      "86/86 [==============================] - 0s 1ms/step - loss: 0.3002 - val_loss: 0.3746\n",
      "Epoch 103/600\n",
      "86/86 [==============================] - 0s 1ms/step - loss: 0.2965 - val_loss: 0.3794\n",
      "Epoch 104/600\n",
      "86/86 [==============================] - 0s 1ms/step - loss: 0.2949 - val_loss: 0.3700\n",
      "Epoch 105/600\n",
      "86/86 [==============================] - 0s 2ms/step - loss: 0.2884 - val_loss: 0.3819\n",
      "Epoch 106/600\n",
      "86/86 [==============================] - 0s 2ms/step - loss: 0.2932 - val_loss: 0.3662\n",
      "Epoch 107/600\n",
      "86/86 [==============================] - 0s 2ms/step - loss: 0.2868 - val_loss: 0.4033\n",
      "Epoch 108/600\n",
      "86/86 [==============================] - 0s 1ms/step - loss: 0.2875 - val_loss: 0.3717\n",
      "Epoch 109/600\n",
      "86/86 [==============================] - 0s 2ms/step - loss: 0.2904 - val_loss: 0.3553\n",
      "Epoch 110/600\n",
      "86/86 [==============================] - 0s 2ms/step - loss: 0.2733 - val_loss: 0.3661\n",
      "Epoch 111/600\n",
      "86/86 [==============================] - 0s 2ms/step - loss: 0.2730 - val_loss: 0.3666\n",
      "Epoch 112/600\n",
      "86/86 [==============================] - 0s 2ms/step - loss: 0.2700 - val_loss: 0.3649\n",
      "Epoch 113/600\n",
      "86/86 [==============================] - 0s 2ms/step - loss: 0.2778 - val_loss: 0.3442\n",
      "Epoch 114/600\n",
      "86/86 [==============================] - 0s 1ms/step - loss: 0.2684 - val_loss: 0.3494\n",
      "Epoch 115/600\n",
      "86/86 [==============================] - 0s 2ms/step - loss: 0.2692 - val_loss: 0.3510\n",
      "Epoch 116/600\n",
      "86/86 [==============================] - 0s 2ms/step - loss: 0.2609 - val_loss: 0.3424\n",
      "Epoch 117/600\n",
      "86/86 [==============================] - 0s 2ms/step - loss: 0.2607 - val_loss: 0.3376\n",
      "Epoch 118/600\n",
      "86/86 [==============================] - 0s 1ms/step - loss: 0.2563 - val_loss: 0.3380\n",
      "Epoch 119/600\n",
      "86/86 [==============================] - 0s 1ms/step - loss: 0.2537 - val_loss: 0.3602\n",
      "Epoch 120/600\n",
      "86/86 [==============================] - 0s 1ms/step - loss: 0.2561 - val_loss: 0.3452\n",
      "Epoch 121/600\n",
      "86/86 [==============================] - 0s 1ms/step - loss: 0.2482 - val_loss: 0.3499\n"
     ]
    },
    {
     "data": {
      "text/plain": [
       "<keras.callbacks.History at 0x7fbdf80a4e80>"
      ]
     },
     "execution_count": 165,
     "metadata": {},
     "output_type": "execute_result"
    }
   ],
   "source": [
    "ann.fit(\n",
    "    x=X_train,\n",
    "    y=y_train, \n",
    "    epochs=600, \n",
    "    batch_size=32,\n",
    "    validation_data=(X_test,y_test),\n",
    "    callbacks=EarlyStopping(monitor='val_loss',patience=4))"
   ]
  },
  {
   "cell_type": "code",
   "execution_count": 166,
   "metadata": {},
   "outputs": [
    {
     "name": "stdout",
     "output_type": "stream",
     "text": [
      "Model: \"sequential_24\"\n",
      "_________________________________________________________________\n",
      " Layer (type)                Output Shape              Param #   \n",
      "=================================================================\n",
      " dense_94 (Dense)            (None, 32)                384       \n",
      "                                                                 \n",
      " dense_95 (Dense)            (None, 32)                1056      \n",
      "                                                                 \n",
      " dense_96 (Dense)            (None, 32)                1056      \n",
      "                                                                 \n",
      " dense_97 (Dense)            (None, 1)                 33        \n",
      "                                                                 \n",
      "=================================================================\n",
      "Total params: 2,529\n",
      "Trainable params: 2,529\n",
      "Non-trainable params: 0\n",
      "_________________________________________________________________\n"
     ]
    }
   ],
   "source": [
    "ann.summary()"
   ]
  },
  {
   "cell_type": "code",
   "execution_count": 167,
   "metadata": {},
   "outputs": [
    {
     "data": {
      "text/plain": [
       "<AxesSubplot:>"
      ]
     },
     "execution_count": 167,
     "metadata": {},
     "output_type": "execute_result"
    },
    {
     "data": {
      "image/png": "[encoded data removed]",
      "text/plain": [
       "<Figure size 1152x648 with 1 Axes>"
      ]
     },
     "metadata": {
      "needs_background": "light"
     },
     "output_type": "display_data"
    }
   ],
   "source": [
    "pd.DataFrame(ann.history.history).plot(figsize=(16,9))"
   ]
  },
  {
   "cell_type": "code",
   "execution_count": 168,
   "metadata": {},
   "outputs": [
    {
     "name": "stdout",
     "output_type": "stream",
     "text": [
      "43/43 [==============================] - 0s 861us/step\n"
     ]
    },
    {
     "data": {
      "text/plain": [
       "array([[5.1670594],\n",
       "       [6.5168657],\n",
       "       [5.7722683],\n",
       "       ...,\n",
       "       [4.2747245],\n",
       "       [5.899273 ],\n",
       "       [4.74747  ]], dtype=float32)"
      ]
     },
     "execution_count": 168,
     "metadata": {},
     "output_type": "execute_result"
    }
   ],
   "source": [
    "predictions = ann.predict(X_test)\n",
    "\n",
    "predictions"
   ]
  },
  {
   "cell_type": "code",
   "execution_count": 169,
   "metadata": {},
   "outputs": [
    {
     "data": {
      "text/plain": [
       "Text(0, 0.5, 'Actual Values')"
      ]
     },
     "execution_count": 169,
     "metadata": {},
     "output_type": "execute_result"
    },
    {
     "data": {
      "image/png": "[encoded data removed]",
      "text/plain": [
       "<Figure size 864x720 with 1 Axes>"
      ]
     },
     "metadata": {
      "needs_background": "light"
     },
     "output_type": "display_data"
    }
   ],
   "source": [
    "plt.figure(figsize=(12,10))\n",
    "plt.scatter(np.ravel(predictions),y_test)\n",
    "plt.title(\"The Scatterplot of Relationship between Actual Values and Predictions\")\n",
    "plt.xlabel(\"Predictions\")\n",
    "plt.ylabel(\"Actual Values\")"
   ]
  },
  {
   "cell_type": "code",
   "execution_count": 170,
   "metadata": {},
   "outputs": [
    {
     "name": "stdout",
     "output_type": "stream",
     "text": [
      "MAE: 0.4267268999140735\n",
      "MSE: 0.3498843532246438\n",
      "RMSE: 0.591510230870645\n"
     ]
    }
   ],
   "source": [
    "print(\"MAE:\",metrics.mean_absolute_error(y_test,predictions))\n",
    "print (\"MSE:\",metrics.mean_squared_error(y_test,predictions))\n",
    "print(\"RMSE:\",np.sqrt(metrics.mean_squared_error(y_test,predictions)))"
   ]
  },
  {
   "cell_type": "code",
   "execution_count": 171,
   "metadata": {},
   "outputs": [
    {
     "data": {
      "text/plain": [
       "0.877983703541352"
      ]
     },
     "execution_count": 171,
     "metadata": {},
     "output_type": "execute_result"
    }
   ],
   "source": [
    "metrics.explained_variance_score(y_test, predictions)"
   ]
  },
  {
   "cell_type": "code",
   "execution_count": 172,
   "metadata": {},
   "outputs": [
    {
     "name": "stdout",
     "output_type": "stream",
     "text": [
      "              precision    recall  f1-score   support\n",
      "\n",
      "           3       0.90      0.99      0.94       220\n",
      "           4       0.80      0.74      0.77       221\n",
      "           5       0.57      0.64      0.61       230\n",
      "           6       0.60      0.44      0.50       247\n",
      "           7       0.57      0.59      0.58       213\n",
      "           8       0.77      0.84      0.80       218\n",
      "\n",
      "    accuracy                           0.70      1349\n",
      "   macro avg       0.70      0.71      0.70      1349\n",
      "weighted avg       0.70      0.70      0.70      1349\n",
      "\n"
     ]
    }
   ],
   "source": [
    "from sklearn.metrics import *\n",
    "\n",
    "for i in range(len(predictions)):\n",
    "    predictions[i][0] = round(predictions[i][0])\n",
    "\n",
    "print(classification_report(y_test,predictions))"
   ]
  },
  {
   "cell_type": "markdown",
   "metadata": {},
   "source": [
    "### XGBoost\n",
    "\n",
    "Second algorithmused is  XGBoost Regressor and Classifier (both)"
   ]
  },
  {
   "cell_type": "code",
   "execution_count": 173,
   "metadata": {},
   "outputs": [
    {
     "name": "stdout",
     "output_type": "stream",
     "text": [
      "RMSE: 0.480025\n"
     ]
    }
   ],
   "source": [
    "import xgboost as  xgb\n",
    "\n",
    "model = xgb.XGBRegressor()\n",
    "\n",
    "model.fit(X_train,y_train)\n",
    "\n",
    "preds = model.predict(X_test)\n",
    "\n",
    "rmse = np.sqrt(metrics.mean_squared_error(y_test, preds))\n",
    "print(\"RMSE: %f\" % (rmse))"
   ]
  },
  {
   "cell_type": "code",
   "execution_count": 174,
   "metadata": {},
   "outputs": [
    {
     "data": {
      "text/plain": [
       "0.918909523529255"
      ]
     },
     "execution_count": 174,
     "metadata": {},
     "output_type": "execute_result"
    }
   ],
   "source": [
    "metrics.explained_variance_score(y_test, preds)"
   ]
  },
  {
   "cell_type": "code",
   "execution_count": 175,
   "metadata": {},
   "outputs": [
    {
     "data": {
      "image/png": "[encoded data removed]",
      "text/plain": [
       "<Figure size 432x288 with 1 Axes>"
      ]
     },
     "metadata": {
      "needs_background": "light"
     },
     "output_type": "display_data"
    }
   ],
   "source": [
    "xgb.plot_tree(model, num_trees=2)\n",
    "plt.show()"
   ]
  },
  {
   "cell_type": "code",
   "execution_count": 176,
   "metadata": {},
   "outputs": [
    {
     "data": {
      "image/png": "[encoded data removed]",
      "text/plain": [
       "<Figure size 432x288 with 1 Axes>"
      ]
     },
     "metadata": {
      "needs_background": "light"
     },
     "output_type": "display_data"
    }
   ],
   "source": [
    "xgb.plot_importance(model)\n",
    "plt.rcParams['figure.figsize'] = [5, 5]\n",
    "plt.show()"
   ]
  },
  {
   "cell_type": "code",
   "execution_count": 177,
   "metadata": {},
   "outputs": [
    {
     "name": "stdout",
     "output_type": "stream",
     "text": [
      "[17:18:34] WARNING: /Users/runner/miniforge3/conda-bld/xgboost-split_1645117948562/work/src/learner.cc:1115: Starting in XGBoost 1.3.0, the default evaluation metric used with the objective 'multi:softprob' was changed from 'merror' to 'mlogloss'. Explicitly set eval_metric if you'd like to restore the old behavior.\n"
     ]
    },
    {
     "data": {
      "text/plain": [
       "XGBClassifier(base_score=0.5, booster='gbtree', colsample_bylevel=1,\n",
       "              colsample_bynode=1, colsample_bytree=1, enable_categorical=False,\n",
       "              gamma=0, gpu_id=-1, importance_type=None,\n",
       "              interaction_constraints='', learning_rate=0.300000012,\n",
       "              max_delta_step=0, max_depth=6, min_child_weight=1, missing=nan,\n",
       "              monotone_constraints='()', n_estimators=100, n_jobs=12,\n",
       "              num_parallel_tree=1, objective='multi:softprob', predictor='auto',\n",
       "              random_state=0, reg_alpha=0, reg_lambda=1, scale_pos_weight=None,\n",
       "              subsample=1, tree_method='exact', use_label_encoder=False,\n",
       "              validate_parameters=1, verbosity=None)"
      ]
     },
     "execution_count": 177,
     "metadata": {},
     "output_type": "execute_result"
    }
   ],
   "source": [
    "model2 = XGBClassifier(use_label_encoder=False)\n",
    "model2.fit(X_train,y_train -3)"
   ]
  },
  {
   "cell_type": "code",
   "execution_count": 178,
   "metadata": {},
   "outputs": [
    {
     "name": "stdout",
     "output_type": "stream",
     "text": [
      "Accuracy: 0.855\n"
     ]
    }
   ],
   "source": [
    "preds2 = model2.predict(X_test)\n",
    "score = metrics.accuracy_score(y_test-3, preds2)\n",
    "print('Accuracy: %.3f' % score)"
   ]
  },
  {
   "cell_type": "code",
   "execution_count": 179,
   "metadata": {},
   "outputs": [
    {
     "name": "stdout",
     "output_type": "stream",
     "text": [
      "              precision    recall  f1-score   support\n",
      "\n",
      "           0       1.00      1.00      1.00       220\n",
      "           1       0.93      0.95      0.94       221\n",
      "           2       0.73      0.75      0.74       230\n",
      "           3       0.71      0.57      0.63       247\n",
      "           4       0.81      0.92      0.86       213\n",
      "           5       0.95      1.00      0.97       218\n",
      "\n",
      "    accuracy                           0.86      1349\n",
      "   macro avg       0.85      0.86      0.86      1349\n",
      "weighted avg       0.85      0.86      0.85      1349\n",
      "\n"
     ]
    }
   ],
   "source": [
    "print(classification_report(y_test-3,preds2))"
   ]
  },
  {
   "cell_type": "markdown",
   "metadata": {},
   "source": [
    "## Conclusion\n",
    "\n",
    "The best algotrithm used here  is XGBoost  classifier with an accuracy of 0.86 and a F1 score of 0.97"
   ]
  }
 ],
 "metadata": {
  "interpreter": {
   "hash": "2fcada7448706bb14fa549fccb2e8f5cfc8ad9324432056ae4b8d82e305f49c2"
  },
  "kernelspec": {
   "display_name": "Python 3.8.13 ('Myenv')",
   "language": "python",
   "name": "python3"
  },
  "language_info": {
   "codemirror_mode": {
    "name": "ipython",
    "version": 3
   },
   "file_extension": ".py",
   "mimetype": "text/x-python",
   "name": "python",
   "nbconvert_exporter": "python",
   "pygments_lexer": "ipython3",
   "version": "3.8.13"
  },
  "orig_nbformat": 4
 },
 "nbformat": 4,
 "nbformat_minor": 2
}
